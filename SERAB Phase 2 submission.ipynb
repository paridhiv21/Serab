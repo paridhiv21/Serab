{
  "cells": [
    {
      "cell_type": "markdown",
      "metadata": {
        "id": "Xsm0kgT1C2QV"
      },
      "source": [
        "# SERAB demo\n",
        "* This notebook decomposes `clf_benchmark.py`, which evaluate a given pre-trained model against SERAB to show the main steps behind the script.\n",
        "\n"
      ]
    },
    {
      "cell_type": "code",
      "execution_count": 81,
      "metadata": {
        "colab": {
          "base_uri": "https://localhost:8080/"
        },
        "id": "3lPOdiOYOD0G",
        "outputId": "1074ead0-2218-4249-b86e-fee2b243275b"
      },
      "outputs": [
        {
          "output_type": "stream",
          "name": "stdout",
          "text": [
            "fatal: destination path 'SERAB' already exists and is not an empty directory.\n"
          ]
        }
      ],
      "source": [
        "!git clone https://github.com/Neclow/SERAB.git"
      ]
    },
    {
      "cell_type": "code",
      "execution_count": 82,
      "metadata": {
        "colab": {
          "base_uri": "https://localhost:8080/"
        },
        "id": "kdnhQYnFFtjs",
        "outputId": "3613a78f-6fe9-47d6-cad0-1b8ec22abb37"
      },
      "outputs": [
        {
          "output_type": "stream",
          "name": "stdout",
          "text": [
            "fatal: destination path 'SERAB' already exists and is not an empty directory.\n",
            "  % Total    % Received % Xferd  Average Speed   Time    Time     Time  Current\n",
            "                                 Dload  Upload   Total   Spent    Left  Speed\n",
            "100   564  100   564    0     0   3296      0 --:--:-- --:--:-- --:--:--  3317\n",
            "patching file config.yaml\n",
            "  % Total    % Received % Xferd  Average Speed   Time    Time     Time  Current\n",
            "                                 Dload  Upload   Total   Spent    Left  Speed\n",
            "100  4867  100  4867    0     0  22998      0 --:--:-- --:--:-- --:--:-- 23066\n",
            "patching file train.py\n",
            "  % Total    % Received % Xferd  Average Speed   Time    Time     Time  Current\n",
            "                                 Dload  Upload   Total   Spent    Left  Speed\n",
            "100  8273  100  8273    0     0  42926      0 --:--:-- --:--:-- --:--:-- 42865\n",
            "patching file augmentations.py\n",
            "  % Total    % Received % Xferd  Average Speed   Time    Time     Time  Current\n",
            "                                 Dload  Upload   Total   Spent    Left  Speed\n",
            "100  1493  100  1493    0     0   9452      0 --:--:-- --:--:-- --:--:--  9509\n",
            "patching file common.py\n",
            "  % Total    % Received % Xferd  Average Speed   Time    Time     Time  Current\n",
            "                                 Dload  Upload   Total   Spent    Left  Speed\n",
            "100  3635  100  3635    0     0  24041      0 --:--:-- --:--:-- --:--:-- 24072\n",
            "patching file dataset.py\n",
            "  % Total    % Received % Xferd  Average Speed   Time    Time     Time  Current\n",
            "                                 Dload  Upload   Total   Spent    Left  Speed\n",
            "100  3165  100  3165    0     0  18161      0 --:--:-- --:--:-- --:--:-- 18189\n"
          ]
        }
      ],
      "source": [
        "!git clone https://github.com/Neclow/SERAB.git\n",
        "!cd SERAB/SERAB/ && curl -O https://raw.githubusercontent.com/nttcslab/byol-a/f2451c366d02be031a31967f494afdf3485a85ff/config.yaml && patch --ignore-whitespace < config.diff\n",
        "!cd SERAB/SERAB/ && curl -O https://raw.githubusercontent.com/nttcslab/byol-a/f2451c366d02be031a31967f494afdf3485a85ff/train.py && patch < train.diff\n",
        "!cd SERAB/SERAB/byol_a/ && curl -O https://raw.githubusercontent.com/nttcslab/byol-a/f2451c366d02be031a31967f494afdf3485a85ff/byol_a/augmentations.py && patch < augmentations.diff\n",
        "!cd SERAB/SERAB/byol_a/ &&curl -O https://raw.githubusercontent.com/nttcslab/byol-a/f2451c366d02be031a31967f494afdf3485a85ff/byol_a/common.py && patch < common.diff\n",
        "!cd SERAB/SERAB/byol_a/ &&curl -O https://raw.githubusercontent.com/nttcslab/byol-a/f2451c366d02be031a31967f494afdf3485a85ff/byol_a/dataset.py && patch < dataset.diff\n",
        "!cd SERAB/SERAB/byol_a/ && curl -O https://raw.githubusercontent.com/nttcslab/byol-a/f2451c366d02be031a31967f494afdf3485a85ff/byol_a/models.py && mv models.py models/audio_ntt.py"
      ]
    },
    {
      "cell_type": "markdown",
      "metadata": {
        "id": "hV85fgeSXbib"
      },
      "source": [
        "## Install libraries"
      ]
    },
    {
      "cell_type": "code",
      "execution_count": 1,
      "metadata": {
        "colab": {
          "base_uri": "https://localhost:8080/"
        },
        "id": "k0Q27KindQxb",
        "outputId": "38943bfb-6448-4852-fcf5-57ec540417a1"
      },
      "outputs": [
        {
          "output_type": "stream",
          "name": "stdout",
          "text": [
            "\u001b[33mWARNING: Ignoring invalid distribution -orch (/usr/local/lib/python3.10/dist-packages)\u001b[0m\u001b[33m\n",
            "\u001b[0m\u001b[33mWARNING: Ignoring invalid distribution -orch (/usr/local/lib/python3.10/dist-packages)\u001b[0m\u001b[33m\n",
            "\u001b[0m\u001b[33mWARNING: Ignoring invalid distribution -orch (/usr/local/lib/python3.10/dist-packages)\u001b[0m\u001b[33m\n",
            "\u001b[0m\u001b[33mWARNING: Ignoring invalid distribution -orch (/usr/local/lib/python3.10/dist-packages)\u001b[0m\u001b[33m\n",
            "\u001b[0m\u001b[33mWARNING: Ignoring invalid distribution -orch (/usr/local/lib/python3.10/dist-packages)\u001b[0m\u001b[33m\n",
            "\u001b[0m\u001b[33mWARNING: Ignoring invalid distribution -orch (/usr/local/lib/python3.10/dist-packages)\u001b[0m\u001b[33m\n",
            "\u001b[0m\u001b[31mERROR: pip's dependency resolver does not currently take into account all the packages that are installed. This behaviour is the source of the following dependency conflicts.\n",
            "peft 0.13.2 requires torch>=1.13.0, but you have torch 1.11.0 which is incompatible.\u001b[0m\u001b[31m\n",
            "\u001b[0mRequirement already satisfied: librosa in /usr/local/lib/python3.10/dist-packages (0.8.1)\n",
            "Collecting librosa\n",
            "  Using cached librosa-0.10.2.post1-py3-none-any.whl.metadata (8.6 kB)\n",
            "Requirement already satisfied: audioread>=2.1.9 in /usr/local/lib/python3.10/dist-packages (from librosa) (3.0.1)\n",
            "Requirement already satisfied: numpy!=1.22.0,!=1.22.1,!=1.22.2,>=1.20.3 in /usr/local/lib/python3.10/dist-packages (from librosa) (1.26.4)\n",
            "Requirement already satisfied: scipy>=1.2.0 in /usr/local/lib/python3.10/dist-packages (from librosa) (1.13.1)\n",
            "Requirement already satisfied: scikit-learn>=0.20.0 in /usr/local/lib/python3.10/dist-packages (from librosa) (1.5.2)\n",
            "Requirement already satisfied: joblib>=0.14 in /usr/local/lib/python3.10/dist-packages (from librosa) (1.4.2)\n",
            "Requirement already satisfied: decorator>=4.3.0 in /usr/local/lib/python3.10/dist-packages (from librosa) (4.4.2)\n",
            "Requirement already satisfied: numba>=0.51.0 in /usr/local/lib/python3.10/dist-packages (from librosa) (0.60.0)\n",
            "Requirement already satisfied: soundfile>=0.12.1 in /usr/local/lib/python3.10/dist-packages (from librosa) (0.12.1)\n",
            "Requirement already satisfied: pooch>=1.1 in /usr/local/lib/python3.10/dist-packages (from librosa) (1.8.2)\n",
            "Requirement already satisfied: soxr>=0.3.2 in /usr/local/lib/python3.10/dist-packages (from librosa) (0.5.0.post1)\n",
            "Requirement already satisfied: typing-extensions>=4.1.1 in /usr/local/lib/python3.10/dist-packages (from librosa) (4.12.2)\n",
            "Requirement already satisfied: lazy-loader>=0.1 in /usr/local/lib/python3.10/dist-packages (from librosa) (0.4)\n",
            "Requirement already satisfied: msgpack>=1.0 in /usr/local/lib/python3.10/dist-packages (from librosa) (1.1.0)\n",
            "Requirement already satisfied: packaging in /usr/local/lib/python3.10/dist-packages (from lazy-loader>=0.1->librosa) (24.1)\n",
            "Requirement already satisfied: llvmlite<0.44,>=0.43.0dev0 in /usr/local/lib/python3.10/dist-packages (from numba>=0.51.0->librosa) (0.43.0)\n",
            "Requirement already satisfied: platformdirs>=2.5.0 in /usr/local/lib/python3.10/dist-packages (from pooch>=1.1->librosa) (4.3.6)\n",
            "Requirement already satisfied: requests>=2.19.0 in /usr/local/lib/python3.10/dist-packages (from pooch>=1.1->librosa) (2.32.3)\n",
            "Requirement already satisfied: threadpoolctl>=3.1.0 in /usr/local/lib/python3.10/dist-packages (from scikit-learn>=0.20.0->librosa) (3.5.0)\n",
            "Requirement already satisfied: cffi>=1.0 in /usr/local/lib/python3.10/dist-packages (from soundfile>=0.12.1->librosa) (1.17.1)\n",
            "Requirement already satisfied: pycparser in /usr/local/lib/python3.10/dist-packages (from cffi>=1.0->soundfile>=0.12.1->librosa) (2.22)\n",
            "Requirement already satisfied: charset-normalizer<4,>=2 in /usr/local/lib/python3.10/dist-packages (from requests>=2.19.0->pooch>=1.1->librosa) (3.4.0)\n",
            "Requirement already satisfied: idna<4,>=2.5 in /usr/local/lib/python3.10/dist-packages (from requests>=2.19.0->pooch>=1.1->librosa) (3.10)\n",
            "Requirement already satisfied: urllib3<3,>=1.21.1 in /usr/local/lib/python3.10/dist-packages (from requests>=2.19.0->pooch>=1.1->librosa) (2.2.3)\n",
            "Requirement already satisfied: certifi>=2017.4.17 in /usr/local/lib/python3.10/dist-packages (from requests>=2.19.0->pooch>=1.1->librosa) (2024.8.30)\n",
            "Using cached librosa-0.10.2.post1-py3-none-any.whl (260 kB)\n",
            "Installing collected packages: librosa\n",
            "  Attempting uninstall: librosa\n",
            "    Found existing installation: librosa 0.8.1\n",
            "    Uninstalling librosa-0.8.1:\n",
            "      Successfully uninstalled librosa-0.8.1\n",
            "Successfully installed librosa-0.10.2.post1\n",
            "Collecting torch==1.12.1\n",
            "  Using cached torch-1.12.1-cp310-cp310-manylinux1_x86_64.whl.metadata (22 kB)\n",
            "Collecting torchtext==0.13.1\n",
            "  Using cached torchtext-0.13.1-cp310-cp310-manylinux1_x86_64.whl.metadata (6.9 kB)\n",
            "Collecting pytorch-lightning==1.9.3\n",
            "  Using cached pytorch_lightning-1.9.3-py3-none-any.whl.metadata (22 kB)\n",
            "Requirement already satisfied: typing-extensions in /usr/local/lib/python3.10/dist-packages (from torch==1.12.1) (4.12.2)\n",
            "Requirement already satisfied: tqdm in /usr/local/lib/python3.10/dist-packages (from torchtext==0.13.1) (4.66.6)\n",
            "Requirement already satisfied: requests in /usr/local/lib/python3.10/dist-packages (from torchtext==0.13.1) (2.32.3)\n",
            "Requirement already satisfied: numpy in /usr/local/lib/python3.10/dist-packages (from torchtext==0.13.1) (1.26.4)\n",
            "Requirement already satisfied: PyYAML>=5.4 in /usr/local/lib/python3.10/dist-packages (from pytorch-lightning==1.9.3) (6.0.2)\n",
            "Requirement already satisfied: fsspec>2021.06.0 in /usr/local/lib/python3.10/dist-packages (from fsspec[http]>2021.06.0->pytorch-lightning==1.9.3) (2024.10.0)\n",
            "Collecting torchmetrics>=0.7.0 (from pytorch-lightning==1.9.3)\n",
            "  Using cached torchmetrics-1.5.1-py3-none-any.whl.metadata (20 kB)\n",
            "Requirement already satisfied: packaging>=17.1 in /usr/local/lib/python3.10/dist-packages (from pytorch-lightning==1.9.3) (24.1)\n",
            "Requirement already satisfied: lightning-utilities>=0.6.0.post0 in /usr/local/lib/python3.10/dist-packages (from pytorch-lightning==1.9.3) (0.11.8)\n",
            "Requirement already satisfied: aiohttp!=4.0.0a0,!=4.0.0a1 in /usr/local/lib/python3.10/dist-packages (from fsspec[http]>2021.06.0->pytorch-lightning==1.9.3) (3.10.10)\n",
            "Requirement already satisfied: setuptools in /usr/local/lib/python3.10/dist-packages (from lightning-utilities>=0.6.0.post0->pytorch-lightning==1.9.3) (75.1.0)\n",
            "Requirement already satisfied: charset-normalizer<4,>=2 in /usr/local/lib/python3.10/dist-packages (from requests->torchtext==0.13.1) (3.4.0)\n",
            "Requirement already satisfied: idna<4,>=2.5 in /usr/local/lib/python3.10/dist-packages (from requests->torchtext==0.13.1) (3.10)\n",
            "Requirement already satisfied: urllib3<3,>=1.21.1 in /usr/local/lib/python3.10/dist-packages (from requests->torchtext==0.13.1) (2.2.3)\n",
            "Requirement already satisfied: certifi>=2017.4.17 in /usr/local/lib/python3.10/dist-packages (from requests->torchtext==0.13.1) (2024.8.30)\n",
            "Requirement already satisfied: aiohappyeyeballs>=2.3.0 in /usr/local/lib/python3.10/dist-packages (from aiohttp!=4.0.0a0,!=4.0.0a1->fsspec[http]>2021.06.0->pytorch-lightning==1.9.3) (2.4.3)\n",
            "Requirement already satisfied: aiosignal>=1.1.2 in /usr/local/lib/python3.10/dist-packages (from aiohttp!=4.0.0a0,!=4.0.0a1->fsspec[http]>2021.06.0->pytorch-lightning==1.9.3) (1.3.1)\n",
            "Requirement already satisfied: attrs>=17.3.0 in /usr/local/lib/python3.10/dist-packages (from aiohttp!=4.0.0a0,!=4.0.0a1->fsspec[http]>2021.06.0->pytorch-lightning==1.9.3) (24.2.0)\n",
            "Requirement already satisfied: frozenlist>=1.1.1 in /usr/local/lib/python3.10/dist-packages (from aiohttp!=4.0.0a0,!=4.0.0a1->fsspec[http]>2021.06.0->pytorch-lightning==1.9.3) (1.5.0)\n",
            "Requirement already satisfied: multidict<7.0,>=4.5 in /usr/local/lib/python3.10/dist-packages (from aiohttp!=4.0.0a0,!=4.0.0a1->fsspec[http]>2021.06.0->pytorch-lightning==1.9.3) (6.1.0)\n",
            "Requirement already satisfied: yarl<2.0,>=1.12.0 in /usr/local/lib/python3.10/dist-packages (from aiohttp!=4.0.0a0,!=4.0.0a1->fsspec[http]>2021.06.0->pytorch-lightning==1.9.3) (1.17.0)\n",
            "Requirement already satisfied: async-timeout<5.0,>=4.0 in /usr/local/lib/python3.10/dist-packages (from aiohttp!=4.0.0a0,!=4.0.0a1->fsspec[http]>2021.06.0->pytorch-lightning==1.9.3) (4.0.3)\n",
            "Requirement already satisfied: propcache>=0.2.0 in /usr/local/lib/python3.10/dist-packages (from yarl<2.0,>=1.12.0->aiohttp!=4.0.0a0,!=4.0.0a1->fsspec[http]>2021.06.0->pytorch-lightning==1.9.3) (0.2.0)\n",
            "Using cached torch-1.12.1-cp310-cp310-manylinux1_x86_64.whl (776.3 MB)\n",
            "Using cached torchtext-0.13.1-cp310-cp310-manylinux1_x86_64.whl (1.9 MB)\n",
            "Using cached pytorch_lightning-1.9.3-py3-none-any.whl (826 kB)\n",
            "Using cached torchmetrics-1.5.1-py3-none-any.whl (890 kB)\n",
            "Installing collected packages: torch, torchtext, torchmetrics, pytorch-lightning\n",
            "  Attempting uninstall: torch\n",
            "    Found existing installation: torch 1.11.0\n",
            "    Uninstalling torch-1.11.0:\n",
            "      Successfully uninstalled torch-1.11.0\n",
            "  Attempting uninstall: torchtext\n",
            "    Found existing installation: torchtext 0.12.0\n",
            "    Uninstalling torchtext-0.12.0:\n",
            "      Successfully uninstalled torchtext-0.12.0\n",
            "  Attempting uninstall: torchmetrics\n",
            "    Found existing installation: torchmetrics 0.6.0\n",
            "    Uninstalling torchmetrics-0.6.0:\n",
            "      Successfully uninstalled torchmetrics-0.6.0\n",
            "  Attempting uninstall: pytorch-lightning\n",
            "    Found existing installation: pytorch-lightning 1.4.0\n",
            "    Uninstalling pytorch-lightning-1.4.0:\n",
            "      Successfully uninstalled pytorch-lightning-1.4.0\n",
            "\u001b[31mERROR: pip's dependency resolver does not currently take into account all the packages that are installed. This behaviour is the source of the following dependency conflicts.\n",
            "peft 0.13.2 requires torch>=1.13.0, but you have torch 1.12.1 which is incompatible.\n",
            "torchvision 0.12.0 requires torch==1.11.0, but you have torch 1.12.1 which is incompatible.\u001b[0m\u001b[31m\n",
            "\u001b[0mSuccessfully installed pytorch-lightning-1.9.3 torch-1.12.1 torchmetrics-1.5.1 torchtext-0.13.1\n",
            "Requirement already satisfied: torchaudio==0.12.1 in /usr/local/lib/python3.10/dist-packages (0.12.1)\n",
            "Requirement already satisfied: torch==1.12.1 in /usr/local/lib/python3.10/dist-packages (from torchaudio==0.12.1) (1.12.1)\n",
            "Requirement already satisfied: typing-extensions in /usr/local/lib/python3.10/dist-packages (from torch==1.12.1->torchaudio==0.12.1) (4.12.2)\n"
          ]
        }
      ],
      "source": [
        "!apt-get install libsox-fmt-all libsox-dev sox > /dev/null\n",
        "!pip install -q opensmile\n",
        "\n",
        "!pip install -q pytorch-lightning==1.4.0 torchmetrics==0.6.0\n",
        "!pip install -q torch==1.11.0 torchvision==0.12.0 torchaudio==0.11.0 torchtext==0.12.0\n",
        "!pip install -q einops==0.4.0\n",
        "!pip install -q pydub==0.25.1\n",
        "!pip install -q tensorflow_datasets==4.3.0\n",
        "!pip install -q librosa==0.8.1\n",
        "!pip install --upgrade librosa\n",
        "!pip install torch==1.12.1 torchtext==0.13.1 pytorch-lightning==1.9.3\n",
        "!pip install torchaudio==0.12.1"
      ]
    },
    {
      "cell_type": "markdown",
      "metadata": {
        "id": "6H4nqqOrXkJP"
      },
      "source": [
        "## Load imports and config variables"
      ]
    },
    {
      "cell_type": "code",
      "execution_count": 2,
      "metadata": {
        "id": "LZ818cc7FzYW"
      },
      "outputs": [],
      "source": [
        "SERAB_PATH = 'SERAB/SERAB/'\n",
        "\n",
        "import sys\n",
        "\n",
        "sys.path.append(SERAB_PATH)"
      ]
    },
    {
      "cell_type": "code",
      "execution_count": 3,
      "metadata": {
        "id": "9NDu4sIU19sT"
      },
      "outputs": [],
      "source": [
        "import collections\n",
        "import os\n",
        "\n",
        "import librosa\n",
        "import numpy as np\n",
        "import pandas as pd\n",
        "import tensorflow_datasets as tfds\n",
        "import tensorflow_hub as hub\n",
        "import torch\n",
        "\n",
        "\n",
        "\n"
      ]
    },
    {
      "cell_type": "code",
      "execution_count": 4,
      "metadata": {
        "id": "ke9-llPeoUcV"
      },
      "outputs": [],
      "source": [
        "from pytorch_lightning.utilities.seed import seed_everything\n",
        "from sklearn.model_selection import GridSearchCV, PredefinedSplit\n",
        "from sklearn.metrics import recall_score\n",
        "from torchaudio.transforms import MelSpectrogram"
      ]
    },
    {
      "cell_type": "code",
      "execution_count": 5,
      "metadata": {
        "id": "OVdOxy9ooai_"
      },
      "outputs": [],
      "source": [
        "from byol_a.common import load_yaml_config\n",
        "from byol_a.augmentations import PrecomputedNorm\n",
        "from clf_benchmark import dat_from_split, get_sklearn_models\n",
        "from settings import CLF_STATS_DICT, RANDOM_SEED, REQUIRED_SAMPLE_RATE\n",
        "from utils import compute_norm_stats, generate_embeddings, load_model, save_results, speaker_normalization"
      ]
    },
    {
      "cell_type": "code",
      "execution_count": 6,
      "metadata": {
        "colab": {
          "base_uri": "https://localhost:8080/"
        },
        "id": "g02-7Oce6kkf",
        "outputId": "5cf42ce5-0da7-43f7-d53d-9fb129948e8f"
      },
      "outputs": [
        {
          "output_type": "stream",
          "name": "stderr",
          "text": [
            "/usr/local/lib/python3.10/dist-packages/pytorch_lightning/utilities/seed.py:47: LightningDeprecationWarning: `pytorch_lightning.utilities.seed.seed_everything` has been deprecated in v1.8.0 and will be removed in v2.0.0. Please use `lightning_fabric.utilities.seed.seed_everything` instead.\n",
            "  rank_zero_deprecation(\n",
            "INFO:lightning_fabric.utilities.seed:Global seed set to 42\n"
          ]
        }
      ],
      "source": [
        "seed_everything(RANDOM_SEED)\n",
        "device = torch.device(\"cuda\" if torch.cuda.is_available() else \"cpu\")\n",
        "cfg = load_yaml_config(f'{SERAB_PATH}/config.yaml')\n",
        "to_melspec = MelSpectrogram(\n",
        "    sample_rate=cfg.sample_rate,\n",
        "    n_fft=cfg.n_fft,\n",
        "    win_length=cfg.win_length,\n",
        "    hop_length=cfg.hop_length,\n",
        "    n_mels=cfg.n_mels,\n",
        "    f_min=cfg.f_min,\n",
        "    f_max=cfg.f_max,\n",
        ")\n",
        "results = {}"
      ]
    },
    {
      "cell_type": "markdown",
      "metadata": {
        "id": "h65OV_ZiZnpJ"
      },
      "source": [
        "## Load data\n",
        "* If you want to test a model on a dataset other than CREMA-D you will need to download and build the dataset.\n",
        "    * An example of how to proceed with emoDB is shown below. Uncomment the lines below (`UNCOMMENT CODE HERE`) to build the emodB dataset.\n",
        "        * You will need to create the subfolders `downloads/manual` under `tensorflow_datasets` and paste the compressed emodB dataset in there.\n",
        "* For this demo, we will use CREMA-D as already pre-built in TFDS."
      ]
    },
    {
      "cell_type": "code",
      "execution_count": 7,
      "metadata": {
        "id": "q1mhvSct8ikn"
      },
      "outputs": [],
      "source": [
        "# Create tensorflow_datasets folders\n",
        "!mkdir -p ../root/tensorflow_datasets/\n",
        "!mkdir -p ../root/tensorflow_datasets/downloads/\n",
        "!mkdir -p ../root/tensorflow_datasets/downloads/manual\n",
        "\n",
        "## UNCOMMENT CODE HERE\n",
        "## Copy compressed dataset files into download/manual\n",
        "# !cp -n drive/MyDrive/SERAB/tensorflow_datasets/downloads/manual/*.zip ../root/tensorflow_datasets/downloads/manual/\n",
        "\n",
        "## Copy the emoDB TFDS scripts and build the emoDB dataset\n",
        "# !cp -r -n SERAB/tensorflow_datasets/emoDB ../root/tensorflow_datasets/emoDB\n",
        "# !cd ../root/tensorflow_datasets/emoDB && tfds build emoDB"
      ]
    },
    {
      "cell_type": "code",
      "execution_count": 8,
      "metadata": {
        "id": "VitKkTIg69oC"
      },
      "outputs": [],
      "source": [
        "dataset_name = 'crema_d'"
      ]
    },
    {
      "cell_type": "code",
      "execution_count": 9,
      "metadata": {
        "colab": {
          "base_uri": "https://localhost:8080/"
        },
        "id": "tI90JXmd6vnB",
        "outputId": "0002fe87-fe39-4e5a-f0d1-ac88a3a74fe7"
      },
      "outputs": [
        {
          "output_type": "stream",
          "name": "stdout",
          "text": [
            "Finished train\n",
            "Finished validation\n",
            "Finished test\n"
          ]
        }
      ],
      "source": [
        "model_selection = 'predefined'\n",
        "\n",
        "SingleSplit = collections.namedtuple('SingleSplit', ['audio', 'labels', 'speaker_id'])\n",
        "Data = collections.namedtuple('Data', ['train', 'validation', 'test'])\n",
        "all_data = Data(\n",
        "    train=SingleSplit(*dat_from_split(dataset_name, 'train')),\n",
        "    validation=SingleSplit(*dat_from_split(dataset_name, 'validation')),\n",
        "    test=SingleSplit(*dat_from_split(dataset_name, 'test'))\n",
        ")\n",
        "\n",
        "orig_sr = tfds.builder(dataset_name).info.features['audio'].sample_rate\n",
        "num_classes = len(np.unique(all_data.train.labels))"
      ]
    },
    {
      "cell_type": "code",
      "execution_count": 10,
      "metadata": {
        "id": "3g4cua_8_O8W"
      },
      "outputs": [],
      "source": [
        "# Load data statistics\n",
        "try:\n",
        "    stats = CLF_STATS_DICT[dataset_name]\n",
        "except KeyError:\n",
        "    print(f'Did not find mean/std stats for {dataset_name}.')\n",
        "    stats = compute_norm_stats(dataset_name, all_data.train.audio, orig_sr, to_melspec)\n",
        "\n",
        "    CLF_STATS_DICT[dataset_name] = stats\n",
        "\n",
        "    print(CLF_STATS_DICT)\n",
        "normalizer = PrecomputedNorm(stats)"
      ]
    },
    {
      "cell_type": "markdown",
      "metadata": {
        "id": "q3GFsqF_a4Ob"
      },
      "source": [
        "## Load the model\n",
        "* For this demo, we will use \"BYOL-S\", a re-trained BYOL-A on speech samples of AudioSet with 512 features.\n",
        "    * More information regarding the models can be found in the pre-print (https://arxiv.org/abs/2110.03414)"
      ]
    },
    {
      "cell_type": "code",
      "execution_count": 11,
      "metadata": {
        "colab": {
          "base_uri": "https://localhost:8080/"
        },
        "id": "r-Cqsj92_aTX",
        "outputId": "83aba935-584c-4fa0-a15c-3c1b662d711a"
      },
      "outputs": [
        {
          "output_type": "stream",
          "name": "stdout",
          "text": [
            "SERAB/SERAB/checkpoints/default1024_BYOLAs64x96-2107292000-e100-bs256-lr0003-rs42.pth\n"
          ]
        }
      ],
      "source": [
        "model_name = 'default'\n",
        "ckpt_folder = f'{SERAB_PATH}/checkpoints/'\n",
        "\n",
        "model, weight_file = load_model(model_name, cfg, device, ckpt_folder)\n",
        "\n",
        "print(weight_file)"
      ]
    },
    {
      "cell_type": "code",
      "execution_count": 12,
      "metadata": {
        "colab": {
          "base_uri": "https://localhost:8080/"
        },
        "id": "1D4oa5N4BPgd",
        "outputId": "44d9d125-69f8-4636-c7d2-c2abe3651a17"
      },
      "outputs": [
        {
          "output_type": "stream",
          "name": "stderr",
          "text": [
            "Generating embeddings for train: 100%|##########| 5144/5144 [02:26<00:00, 35.12it/s]\n"
          ]
        },
        {
          "output_type": "stream",
          "name": "stdout",
          "text": [
            "Finished train\n"
          ]
        },
        {
          "output_type": "stream",
          "name": "stderr",
          "text": [
            "Generating embeddings for validation: 100%|##########| 738/738 [00:20<00:00, 35.27it/s]\n"
          ]
        },
        {
          "output_type": "stream",
          "name": "stdout",
          "text": [
            "Finished validation\n"
          ]
        },
        {
          "output_type": "stream",
          "name": "stderr",
          "text": [
            "Generating embeddings for test: 100%|##########| 1556/1556 [00:42<00:00, 36.64it/s]"
          ]
        },
        {
          "output_type": "stream",
          "name": "stdout",
          "text": [
            "Finished test\n"
          ]
        },
        {
          "output_type": "stream",
          "name": "stderr",
          "text": [
            "\n"
          ]
        }
      ],
      "source": [
        "# Generate embeddings\n",
        "embeddings = Data(\n",
        "    train=generate_embeddings(\n",
        "        model,\n",
        "        model_name,\n",
        "        all_data.train.audio,\n",
        "        'train',\n",
        "        orig_sr,\n",
        "        to_melspec,\n",
        "        normalizer,\n",
        "        device\n",
        "    ),\n",
        "    validation=generate_embeddings(\n",
        "        model,\n",
        "        model_name,\n",
        "        all_data.validation.audio,\n",
        "        'validation',\n",
        "        orig_sr,\n",
        "        to_melspec,\n",
        "        normalizer,\n",
        "        device\n",
        "    ),\n",
        "    test=generate_embeddings(\n",
        "        model,\n",
        "        model_name,\n",
        "        all_data.test.audio,\n",
        "        'test',\n",
        "        orig_sr,\n",
        "        to_melspec,\n",
        "        normalizer,\n",
        "        device\n",
        "    )\n",
        ")"
      ]
    },
    {
      "cell_type": "code",
      "execution_count": 13,
      "metadata": {
        "colab": {
          "base_uri": "https://localhost:8080/"
        },
        "id": "0kUykLRlBS--",
        "outputId": "a8c5271f-2853-41ce-fa92-5010b7324f41"
      },
      "outputs": [
        {
          "output_type": "stream",
          "name": "stdout",
          "text": [
            "4.344951 4.3818913\n",
            "4.3764834 4.4149346\n",
            "4.289814 4.375481\n",
            "(5144, 1024)\n",
            "(738, 1024)\n",
            "(1556, 1024)\n"
          ]
        }
      ],
      "source": [
        "print(embeddings.train.mean(), embeddings.train.std())\n",
        "print(embeddings.validation.mean(), embeddings.validation.std())\n",
        "print(embeddings.test.mean(), embeddings.test.std())\n",
        "print(embeddings.train.shape)\n",
        "print(embeddings.validation.shape)\n",
        "print(embeddings.test.shape)\n",
        "\n",
        "# Load classifiers\n",
        "log_list, estimator_list, param_list = get_sklearn_models()"
      ]
    },
    {
      "cell_type": "code",
      "execution_count": 14,
      "metadata": {
        "colab": {
          "base_uri": "https://localhost:8080/"
        },
        "id": "d3bpt-vRG4Ue",
        "outputId": "28989766-7283-4ac7-c29b-43045d97e518"
      },
      "outputs": [
        {
          "output_type": "stream",
          "name": "stdout",
          "text": [
            "Original shape of embeddings.train: (5144, 1024)\n",
            "Original shape of labels_train: 5144\n",
            "New shape of train_features: (5144, 228)\n",
            "New shape of labels_train: 5144\n"
          ]
        }
      ],
      "source": [
        "# Assuming labels are in a structure like all_data.train.labels\n",
        "# Define labels_train to match embeddings.train\n",
        "from sklearn.decomposition import PCA\n",
        "labels_train = all_data.train.labels  # Adjust this to match your actual data structure\n",
        "\n",
        "# Step 1: Verify Dimensions of Original Data Before PCA\n",
        "print(\"Original shape of embeddings.train:\", embeddings.train.shape)\n",
        "print(\"Original shape of labels_train:\", len(labels_train))\n",
        "\n",
        "# Step 2: Check for any mismatch in dimensions after PCA transformation\n",
        "if embeddings.train.shape[0] != len(labels_train):\n",
        "    print(f\"Mismatch detected: embeddings.train has {embeddings.train.shape[0]} samples, but labels_train has {len(labels_train)} samples.\")\n",
        "    # Align labels if needed - adjust if there's a specific filter applied on embeddings.train\n",
        "    indices_to_keep = np.arange(embeddings.train.shape[0])  # Adjust indices if there's filtering\n",
        "    labels_train = labels_train[indices_to_keep]\n",
        "\n",
        "# Step 3: Apply PCA on the embeddings with matched labels\n",
        "pca = PCA(n_components=0.95)\n",
        "train_features = pca.fit_transform(embeddings.train)\n",
        "test_features = pca.transform(embeddings.test)\n",
        "\n",
        "# Verify the shape after reprocessing\n",
        "print(\"New shape of train_features:\", train_features.shape)\n",
        "print(\"New shape of labels_train:\", len(labels_train))\n",
        "\n",
        "# Proceed with model training\n",
        "# Now train_features and labels_train should have matching dimensions\n"
      ]
    },
    {
      "cell_type": "code",
      "execution_count": 15,
      "metadata": {
        "id": "CV3juSvrGQG8"
      },
      "outputs": [],
      "source": [
        "# from sklearn.decomposition import PCA\n",
        "\n",
        "# pca = PCA(n_components=0.95)\n",
        "# train_features = pca.fit_transform(embeddings.train)\n",
        "# test_features = pca.transform(embeddings.test)\n",
        "\n",
        "# print(f\"Original dimensions: {embeddings.train.shape[1]}, Reduced dimensions: {train_features.shape[1]}\")\n"
      ]
    },
    {
      "cell_type": "code",
      "execution_count": 16,
      "metadata": {
        "colab": {
          "base_uri": "https://localhost:8080/"
        },
        "id": "dDEucl9LG-ma",
        "outputId": "d4e03dcf-bfb6-4061-f74f-78a510a8cf76"
      },
      "outputs": [
        {
          "output_type": "stream",
          "name": "stdout",
          "text": [
            "Shape of train_features: (5144, 228)\n",
            "Length of labels_train: 5144\n",
            "train_features shape: (5144, 228)\n",
            "labels_train shape: (5144,)\n"
          ]
        }
      ],
      "source": [
        "print(\"Shape of train_features:\", train_features.shape)\n",
        "print(\"Length of labels_train:\", len(labels_train))\n",
        "print(\"train_features shape:\", train_features.shape)\n",
        "print(\"labels_train shape:\", labels_train.shape)\n"
      ]
    },
    {
      "cell_type": "code",
      "execution_count": 17,
      "metadata": {
        "id": "nlRqxPDhDpDi"
      },
      "outputs": [],
      "source": [
        "# # Speaker normalization\n",
        "# # Can also try with normal standardization (StandardScaler), should not change the results too much\n",
        "# normalized_train = speaker_normalization(embeddings.train, all_data.train.speaker_id)\n",
        "# normalized_validation = speaker_normalization(embeddings.validation, all_data.validation.speaker_id)\n",
        "# normalized_test = speaker_normalization(embeddings.test, all_data.test.speaker_id)\n",
        "\n",
        "# # Aggregate labels and speaker IDs\n",
        "# normalized_train = np.append(normalized_train, normalized_validation, axis=0)\n",
        "# labels_train = np.append(all_data.train.labels, all_data.validation.labels, axis=0)\n",
        "# speaker_id_train = np.append(all_data.train.speaker_id, all_data.validation.speaker_id, axis=0)"
      ]
    },
    {
      "cell_type": "code",
      "execution_count": 18,
      "metadata": {
        "colab": {
          "base_uri": "https://localhost:8080/"
        },
        "id": "9QFj7PohNtNu",
        "outputId": "7e842ce3-3701-4167-94a0-5bb08c6cefc0"
      },
      "outputs": [
        {
          "output_type": "stream",
          "name": "stdout",
          "text": [
            "normalized_train (5144, 1024)\n",
            "normalized_test (1556, 1024)\n",
            "normalized_validation (738, 1024)\n",
            "train_features shape after PCA: (5882, 518)\n",
            "labels_train shape after alignment: (5882,)\n"
          ]
        }
      ],
      "source": [
        "# Step 1: Speaker normalization for train, validation, and test embeddings\n",
        "normalized_train = speaker_normalization(embeddings.train, all_data.train.speaker_id)\n",
        "normalized_validation = speaker_normalization(embeddings.validation, all_data.validation.speaker_id)\n",
        "normalized_test = speaker_normalization(embeddings.test, all_data.test.speaker_id)\n",
        "\n",
        "# Step 2: Combine normalized train and validation embeddings for PCA\n",
        "combined_embeddings = np.append(normalized_train, normalized_validation, axis=0)\n",
        "\n",
        "# Step 3: Combine labels from train and validation sets to align with combined_embeddings\n",
        "labels_train = np.concatenate((all_data.train.labels, all_data.validation.labels), axis=0)\n",
        "\n",
        "# Step 4: Apply PCA after combining embeddings to match labels_train\n",
        "pca = PCA(n_components=0.95)\n",
        "train_features = pca.fit_transform(combined_embeddings)\n",
        "test_features = pca.transform(normalized_test)\n",
        "\n",
        "# Verify the shape to ensure train_features and labels_train are aligned\n",
        "print(\"normalized_train\",normalized_train.shape)\n",
        "print(\"normalized_test\", normalized_test.shape)\n",
        "print(\"normalized_validation\", normalized_validation.shape)\n",
        "print(\"train_features shape after PCA:\", train_features.shape)\n",
        "print(\"labels_train shape after alignment:\", labels_train.shape)\n",
        "\n",
        "# Now, train_features and labels_train should match in the number of samples\n"
      ]
    },
    {
      "cell_type": "code",
      "execution_count": 19,
      "metadata": {
        "colab": {
          "base_uri": "https://localhost:8080/"
        },
        "id": "xbOjnzu0Q-Q0",
        "outputId": "7d501c6f-cf60-4b06-9ba8-430190bf2e4f"
      },
      "outputs": [
        {
          "output_type": "stream",
          "name": "stdout",
          "text": [
            "train_features shape: (5882, 518)\n",
            "labels_train shape: (5882,)\n"
          ]
        }
      ],
      "source": [
        "print(\"train_features shape:\", train_features.shape)\n",
        "print(\"labels_train shape:\", labels_train.shape)\n"
      ]
    },
    {
      "cell_type": "code",
      "execution_count": 20,
      "metadata": {
        "id": "YxZ842DaTlSa"
      },
      "outputs": [],
      "source": [
        "from sklearn.preprocessing import StandardScaler\n",
        "\n",
        "# Initialize scaler and fit-transform on train features\n",
        "scaler = StandardScaler()\n",
        "train_features = scaler.fit_transform(train_features)\n",
        "test_features = scaler.transform(test_features)\n"
      ]
    },
    {
      "cell_type": "code",
      "execution_count": 21,
      "metadata": {
        "colab": {
          "base_uri": "https://localhost:8080/"
        },
        "id": "OEF7zuopUU5w",
        "outputId": "36fa50c4-94ef-4475-e6b7-5300cba1c9c9"
      },
      "outputs": [
        {
          "output_type": "stream",
          "name": "stdout",
          "text": [
            "Stacking Classifier Accuracy: 0.70\n",
            "Voting Classifier Accuracy: 0.68\n"
          ]
        }
      ],
      "source": [
        "# from sklearn.ensemble import StackingClassifier, VotingClassifier\n",
        "# from sklearn.ensemble import RandomForestClassifier\n",
        "# from sklearn.svm import SVC\n",
        "# from sklearn.linear_model import LogisticRegression\n",
        "# from sklearn.preprocessing import StandardScaler\n",
        "\n",
        "# # Standardize features to improve convergence\n",
        "# scaler = StandardScaler()\n",
        "# train_features = scaler.fit_transform(train_features)\n",
        "# test_features = scaler.transform(test_features)\n",
        "\n",
        "# # Define base classifiers with increased max_iter and alternative solver for Logistic Regression\n",
        "# base_estimators = [\n",
        "#     ('rf', RandomForestClassifier(n_estimators=100)),\n",
        "#     ('svc', SVC(probability=True)),\n",
        "#     ('lr', LogisticRegression(max_iter=2000, solver='saga'))\n",
        "# ]\n",
        "\n",
        "# # Stacking and Voting Classifiers\n",
        "# stack_clf = StackingClassifier(estimators=base_estimators, final_estimator=LogisticRegression(max_iter=2000, solver='saga'))\n",
        "# vote_clf = VotingClassifier(estimators=base_estimators, voting='soft')\n",
        "\n",
        "# # Fit ensemble models\n",
        "# stack_clf.fit(train_features, labels_train)\n",
        "# vote_clf.fit(train_features, labels_train)\n",
        "from sklearn.ensemble import StackingClassifier, VotingClassifier\n",
        "from sklearn.ensemble import RandomForestClassifier\n",
        "from sklearn.svm import SVC\n",
        "from sklearn.linear_model import LogisticRegression\n",
        "\n",
        "# Define base classifiers\n",
        "base_estimators = [\n",
        "    ('rf', RandomForestClassifier(n_estimators=100)),\n",
        "    ('svc', SVC(probability=True)),\n",
        "    ('lr', LogisticRegression(max_iter=2000))\n",
        "]\n",
        "\n",
        "# Stacking and Voting Ensembles\n",
        "stack_clf = StackingClassifier(estimators=base_estimators, final_estimator=LogisticRegression())\n",
        "vote_clf = VotingClassifier(estimators=base_estimators, voting='soft')\n",
        "\n",
        "# Fit both ensemble models\n",
        "stack_clf.fit(train_features, labels_train)\n",
        "vote_clf.fit(train_features, labels_train)\n",
        "\n",
        "# Evaluate initial accuracy on the test set\n",
        "stack_accuracy = stack_clf.score(test_features, all_data.test.labels)\n",
        "vote_accuracy = vote_clf.score(test_features, all_data.test.labels)\n",
        "\n",
        "print(f\"Stacking Classifier Accuracy: {stack_accuracy:.2f}\")\n",
        "print(f\"Voting Classifier Accuracy: {vote_accuracy:.2f}\")\n",
        "\n",
        "\n"
      ]
    },
    {
      "cell_type": "code",
      "execution_count": 22,
      "metadata": {
        "id": "s1653fVRVxwd",
        "colab": {
          "base_uri": "https://localhost:8080/"
        },
        "outputId": "d488eaf6-7b1c-4e49-83e2-1e69673bef66"
      },
      "outputs": [
        {
          "output_type": "stream",
          "name": "stderr",
          "text": [
            "/usr/local/lib/python3.10/dist-packages/sklearn/model_selection/_search.py:320: UserWarning: The total space of parameters 27 is smaller than n_iter=98. Running 27 iterations. For exhaustive searches, use GridSearchCV.\n",
            "  warnings.warn(\n"
          ]
        }
      ],
      "source": [
        "from sklearn.model_selection import RandomizedSearchCV\n",
        "\n",
        "\n",
        "param_grid = {\n",
        "    'rf__n_estimators': [50, 100, 200],\n",
        "    'svc__C': [0.1, 1, 10],\n",
        "    'lr__C': [0.1, 1, 10]\n",
        "}\n",
        "\n",
        "from sklearn.experimental import enable_halving_search_cv  # Required to enable HalvingRandomSearchCV\n",
        "from sklearn.model_selection import HalvingRandomSearchCV\n",
        "\n",
        "search = HalvingRandomSearchCV(vote_clf, param_grid, factor=2, scoring='accuracy', n_jobs=-1)\n",
        "search.fit(train_features, labels_train)\n",
        "\n",
        "\n",
        "# Get the best model after tuning\n",
        "best_model = search.best_estimator_"
      ]
    },
    {
      "cell_type": "code",
      "execution_count": 23,
      "metadata": {
        "id": "GyFVMg35OXPV",
        "colab": {
          "base_uri": "https://localhost:8080/"
        },
        "outputId": "d2529d96-8dac-4191-a784-e1d4fb20e2e1"
      },
      "outputs": [
        {
          "output_type": "stream",
          "name": "stdout",
          "text": [
            "Best Model Test Accuracy: 0.68\n",
            "Best Model Test Precision: 0.68\n",
            "Best Model Test Recall: 0.68\n",
            "Best Model Test F1 Score: 0.68\n"
          ]
        }
      ],
      "source": [
        "from sklearn.metrics import f1_score, precision_score, recall_score\n",
        "\n",
        "# Predict using the best model\n",
        "y_pred = best_model.predict(test_features)\n",
        "\n",
        "# Calculate additional metrics\n",
        "test_accuracy = best_model.score(test_features, all_data.test.labels)\n",
        "test_precision = precision_score(all_data.test.labels, y_pred, average='weighted')\n",
        "test_recall = recall_score(all_data.test.labels, y_pred, average='weighted')\n",
        "test_f1 = f1_score(all_data.test.labels, y_pred, average='weighted')\n",
        "\n",
        "print(f\"Best Model Test Accuracy: {test_accuracy:.2f}\")\n",
        "print(f\"Best Model Test Precision: {test_precision:.2f}\")\n",
        "print(f\"Best Model Test Recall: {test_recall:.2f}\")\n",
        "print(f\"Best Model Test F1 Score: {test_f1:.2f}\")"
      ]
    },
    {
      "cell_type": "code",
      "execution_count": 24,
      "metadata": {
        "id": "xttDd3CDOba9",
        "colab": {
          "base_uri": "https://localhost:8080/"
        },
        "outputId": "8795cfc3-af66-4735-e7b6-9aa457a93f1f"
      },
      "outputs": [
        {
          "output_type": "stream",
          "name": "stdout",
          "text": [
            "Model loaded successfully.\n"
          ]
        }
      ],
      "source": [
        "import joblib\n",
        "\n",
        "# Save the best model for future use\n",
        "joblib.dump(best_model, 'best_audio_classifier.pkl')\n",
        "\n",
        "# To load the model later\n",
        "loaded_model = joblib.load('best_audio_classifier.pkl')\n",
        "print(\"Model loaded successfully.\")\n"
      ]
    },
    {
      "cell_type": "code",
      "execution_count": 25,
      "metadata": {
        "id": "oJFfnIsvR4aF"
      },
      "outputs": [],
      "source": [
        "min_samples = min(train_features.shape[0], labels_train.shape[0])\n",
        "train_features = train_features[:min_samples]\n",
        "labels_train = labels_train[:min_samples]\n"
      ]
    },
    {
      "cell_type": "code",
      "execution_count": 26,
      "metadata": {
        "id": "WL7sJwe7T9ay",
        "colab": {
          "base_uri": "https://localhost:8080/"
        },
        "outputId": "ddd550b5-b077-413b-db9e-ae11fdfaf964"
      },
      "outputs": [
        {
          "output_type": "stream",
          "name": "stdout",
          "text": [
            "train_features shape: (5882, 518)\n",
            "labels_train shape: (5882,)\n"
          ]
        }
      ],
      "source": [
        "print(\"train_features shape:\", train_features.shape)\n",
        "print(\"labels_train shape:\", labels_train.shape)"
      ]
    },
    {
      "cell_type": "code",
      "execution_count": 27,
      "metadata": {
        "id": "sOrPWjtwDtrA",
        "colab": {
          "base_uri": "https://localhost:8080/"
        },
        "outputId": "bf7e7d9a-e352-4030-ff5d-08d1e628d92b"
      },
      "outputs": [
        {
          "output_type": "stream",
          "name": "stdout",
          "text": [
            "Step 1/5: LDA...\n",
            "Done\n",
            "Step 2/5: LR...\n",
            "Error with LR: The 'max_iter' parameter of LogisticRegression must be an int in the range [0, inf). Got 10000.0 instead.\n",
            "Step 3/5: QDA...\n",
            "Done\n",
            "Step 4/5: RF...\n",
            "Done\n",
            "Step 5/5: SVC...\n",
            "Error with SVC: The 'max_iter' parameter of SVC must be an int in the range [-1, inf). Got 10000.0 instead.\n",
            "          crema_d\n",
            "test_acc     70.2\n",
            "test_uar     70.4\n"
          ]
        },
        {
          "output_type": "stream",
          "name": "stderr",
          "text": [
            "<ipython-input-27-8778d0e43743>:44: FutureWarning: DataFrame.applymap has been deprecated. Use DataFrame.map instead.\n",
            "  results_df = pd.DataFrame(results).applymap(lambda x: round(x * 100, 1))\n"
          ]
        }
      ],
      "source": [
        "# Initialize an empty dictionary to store results\n",
        "results = {}\n",
        "\n",
        "for i, (estimator_name, estimator, param_grid) in enumerate(zip(log_list, estimator_list, param_list)):\n",
        "    print(f'Step {i+1}/{len(estimator_list)}: {estimator_name}...')\n",
        "\n",
        "    # Use GridSearchCV only if 'predefined' is selected\n",
        "    if model_selection == 'predefined':\n",
        "        split_indices = np.concatenate([\n",
        "            np.full(embeddings.train.shape[0], -1),\n",
        "            np.zeros(embeddings.validation.shape[0])\n",
        "        ])\n",
        "        split = PredefinedSplit(split_indices)\n",
        "        clf = GridSearchCV(\n",
        "            estimator=estimator,\n",
        "            param_grid=param_grid,\n",
        "            cv=split,\n",
        "            n_jobs=-1,\n",
        "            refit=True,\n",
        "            verbose=0,\n",
        "            error_score='raise'  # Ensures all errors are raised for easier debugging\n",
        "        )\n",
        "    else:\n",
        "        clf = estimator  # Use the estimator directly without parameter tuning\n",
        "\n",
        "    # Fit the model and evaluate accuracy and recall\n",
        "    try:\n",
        "        clf.fit(train_features, labels_train)\n",
        "        test_acc = clf.score(test_features, all_data.test.labels)\n",
        "        test_uar = recall_score(all_data.test.labels, clf.predict(test_features), average='macro')\n",
        "\n",
        "        # Store results in dictionary format\n",
        "        results[estimator_name] = {\n",
        "            'test_acc': test_acc,\n",
        "            'test_uar': test_uar\n",
        "        }\n",
        "        print('Done')\n",
        "\n",
        "    except ValueError as e:\n",
        "        print(f\"Error with {estimator_name}: {e}\")\n",
        "        continue\n",
        "\n",
        "# Create a DataFrame from the results, rounding to 1 decimal place\n",
        "results_df = pd.DataFrame(results).applymap(lambda x: round(x * 100, 1))\n",
        "\n",
        "# Select the model with the highest test accuracy\n",
        "best_estimator = results_df.loc['test_acc'].idxmax()\n",
        "results_df = results_df[[best_estimator]].rename(columns={best_estimator: dataset_name})\n",
        "\n",
        "# Display the final results DataFrame\n",
        "print(results_df)\n"
      ]
    },
    {
      "cell_type": "code",
      "source": [
        "# Create a DataFrame from the results, rounding to 1 decimal place\n",
        "results_df = pd.DataFrame(results).applymap(lambda x: round(x * 100, 1))\n",
        "\n",
        "# Select the model with the highest test accuracy\n",
        "best_estimator = results_df.loc['test_acc'].idxmax()\n",
        "results_df = results_df[[best_estimator]].rename(columns={best_estimator: dataset_name})\n",
        "\n",
        "# Display the final results DataFrame\n",
        "print(results_df)"
      ],
      "metadata": {
        "colab": {
          "base_uri": "https://localhost:8080/"
        },
        "id": "hRrZ0htR4blV",
        "outputId": "0ab5ebbf-831f-41d7-a853-f0e5d04a1b76"
      },
      "execution_count": 28,
      "outputs": [
        {
          "output_type": "stream",
          "name": "stdout",
          "text": [
            "          crema_d\n",
            "test_acc     70.2\n",
            "test_uar     70.4\n"
          ]
        },
        {
          "output_type": "stream",
          "name": "stderr",
          "text": [
            "<ipython-input-28-3efe8dfb0e29>:2: FutureWarning: DataFrame.applymap has been deprecated. Use DataFrame.map instead.\n",
            "  results_df = pd.DataFrame(results).applymap(lambda x: round(x * 100, 1))\n"
          ]
        }
      ]
    },
    {
      "cell_type": "code",
      "execution_count": 29,
      "metadata": {
        "id": "anJDYgysDx3n",
        "colab": {
          "base_uri": "https://localhost:8080/",
          "height": 125
        },
        "outputId": "ab805a1c-d95f-4340-8525-8858e1043700"
      },
      "outputs": [
        {
          "output_type": "execute_result",
          "data": {
            "text/plain": [
              "          crema_d\n",
              "test_acc     70.2\n",
              "test_uar     70.4"
            ],
            "text/html": [
              "\n",
              "  <div id=\"df-73fcc93a-0f98-4d3a-a076-ab45224b48c6\" class=\"colab-df-container\">\n",
              "    <div>\n",
              "<style scoped>\n",
              "    .dataframe tbody tr th:only-of-type {\n",
              "        vertical-align: middle;\n",
              "    }\n",
              "\n",
              "    .dataframe tbody tr th {\n",
              "        vertical-align: top;\n",
              "    }\n",
              "\n",
              "    .dataframe thead th {\n",
              "        text-align: right;\n",
              "    }\n",
              "</style>\n",
              "<table border=\"1\" class=\"dataframe\">\n",
              "  <thead>\n",
              "    <tr style=\"text-align: right;\">\n",
              "      <th></th>\n",
              "      <th>crema_d</th>\n",
              "    </tr>\n",
              "  </thead>\n",
              "  <tbody>\n",
              "    <tr>\n",
              "      <th>test_acc</th>\n",
              "      <td>70.2</td>\n",
              "    </tr>\n",
              "    <tr>\n",
              "      <th>test_uar</th>\n",
              "      <td>70.4</td>\n",
              "    </tr>\n",
              "  </tbody>\n",
              "</table>\n",
              "</div>\n",
              "    <div class=\"colab-df-buttons\">\n",
              "\n",
              "  <div class=\"colab-df-container\">\n",
              "    <button class=\"colab-df-convert\" onclick=\"convertToInteractive('df-73fcc93a-0f98-4d3a-a076-ab45224b48c6')\"\n",
              "            title=\"Convert this dataframe to an interactive table.\"\n",
              "            style=\"display:none;\">\n",
              "\n",
              "  <svg xmlns=\"http://www.w3.org/2000/svg\" height=\"24px\" viewBox=\"0 -960 960 960\">\n",
              "    <path d=\"M120-120v-720h720v720H120Zm60-500h600v-160H180v160Zm220 220h160v-160H400v160Zm0 220h160v-160H400v160ZM180-400h160v-160H180v160Zm440 0h160v-160H620v160ZM180-180h160v-160H180v160Zm440 0h160v-160H620v160Z\"/>\n",
              "  </svg>\n",
              "    </button>\n",
              "\n",
              "  <style>\n",
              "    .colab-df-container {\n",
              "      display:flex;\n",
              "      gap: 12px;\n",
              "    }\n",
              "\n",
              "    .colab-df-convert {\n",
              "      background-color: #E8F0FE;\n",
              "      border: none;\n",
              "      border-radius: 50%;\n",
              "      cursor: pointer;\n",
              "      display: none;\n",
              "      fill: #1967D2;\n",
              "      height: 32px;\n",
              "      padding: 0 0 0 0;\n",
              "      width: 32px;\n",
              "    }\n",
              "\n",
              "    .colab-df-convert:hover {\n",
              "      background-color: #E2EBFA;\n",
              "      box-shadow: 0px 1px 2px rgba(60, 64, 67, 0.3), 0px 1px 3px 1px rgba(60, 64, 67, 0.15);\n",
              "      fill: #174EA6;\n",
              "    }\n",
              "\n",
              "    .colab-df-buttons div {\n",
              "      margin-bottom: 4px;\n",
              "    }\n",
              "\n",
              "    [theme=dark] .colab-df-convert {\n",
              "      background-color: #3B4455;\n",
              "      fill: #D2E3FC;\n",
              "    }\n",
              "\n",
              "    [theme=dark] .colab-df-convert:hover {\n",
              "      background-color: #434B5C;\n",
              "      box-shadow: 0px 1px 3px 1px rgba(0, 0, 0, 0.15);\n",
              "      filter: drop-shadow(0px 1px 2px rgba(0, 0, 0, 0.3));\n",
              "      fill: #FFFFFF;\n",
              "    }\n",
              "  </style>\n",
              "\n",
              "    <script>\n",
              "      const buttonEl =\n",
              "        document.querySelector('#df-73fcc93a-0f98-4d3a-a076-ab45224b48c6 button.colab-df-convert');\n",
              "      buttonEl.style.display =\n",
              "        google.colab.kernel.accessAllowed ? 'block' : 'none';\n",
              "\n",
              "      async function convertToInteractive(key) {\n",
              "        const element = document.querySelector('#df-73fcc93a-0f98-4d3a-a076-ab45224b48c6');\n",
              "        const dataTable =\n",
              "          await google.colab.kernel.invokeFunction('convertToInteractive',\n",
              "                                                    [key], {});\n",
              "        if (!dataTable) return;\n",
              "\n",
              "        const docLinkHtml = 'Like what you see? Visit the ' +\n",
              "          '<a target=\"_blank\" href=https://colab.research.google.com/notebooks/data_table.ipynb>data table notebook</a>'\n",
              "          + ' to learn more about interactive tables.';\n",
              "        element.innerHTML = '';\n",
              "        dataTable['output_type'] = 'display_data';\n",
              "        await google.colab.output.renderOutput(dataTable, element);\n",
              "        const docLink = document.createElement('div');\n",
              "        docLink.innerHTML = docLinkHtml;\n",
              "        element.appendChild(docLink);\n",
              "      }\n",
              "    </script>\n",
              "  </div>\n",
              "\n",
              "\n",
              "<div id=\"df-fbc18785-86f9-4221-a529-a0a53f2944f0\">\n",
              "  <button class=\"colab-df-quickchart\" onclick=\"quickchart('df-fbc18785-86f9-4221-a529-a0a53f2944f0')\"\n",
              "            title=\"Suggest charts\"\n",
              "            style=\"display:none;\">\n",
              "\n",
              "<svg xmlns=\"http://www.w3.org/2000/svg\" height=\"24px\"viewBox=\"0 0 24 24\"\n",
              "     width=\"24px\">\n",
              "    <g>\n",
              "        <path d=\"M19 3H5c-1.1 0-2 .9-2 2v14c0 1.1.9 2 2 2h14c1.1 0 2-.9 2-2V5c0-1.1-.9-2-2-2zM9 17H7v-7h2v7zm4 0h-2V7h2v10zm4 0h-2v-4h2v4z\"/>\n",
              "    </g>\n",
              "</svg>\n",
              "  </button>\n",
              "\n",
              "<style>\n",
              "  .colab-df-quickchart {\n",
              "      --bg-color: #E8F0FE;\n",
              "      --fill-color: #1967D2;\n",
              "      --hover-bg-color: #E2EBFA;\n",
              "      --hover-fill-color: #174EA6;\n",
              "      --disabled-fill-color: #AAA;\n",
              "      --disabled-bg-color: #DDD;\n",
              "  }\n",
              "\n",
              "  [theme=dark] .colab-df-quickchart {\n",
              "      --bg-color: #3B4455;\n",
              "      --fill-color: #D2E3FC;\n",
              "      --hover-bg-color: #434B5C;\n",
              "      --hover-fill-color: #FFFFFF;\n",
              "      --disabled-bg-color: #3B4455;\n",
              "      --disabled-fill-color: #666;\n",
              "  }\n",
              "\n",
              "  .colab-df-quickchart {\n",
              "    background-color: var(--bg-color);\n",
              "    border: none;\n",
              "    border-radius: 50%;\n",
              "    cursor: pointer;\n",
              "    display: none;\n",
              "    fill: var(--fill-color);\n",
              "    height: 32px;\n",
              "    padding: 0;\n",
              "    width: 32px;\n",
              "  }\n",
              "\n",
              "  .colab-df-quickchart:hover {\n",
              "    background-color: var(--hover-bg-color);\n",
              "    box-shadow: 0 1px 2px rgba(60, 64, 67, 0.3), 0 1px 3px 1px rgba(60, 64, 67, 0.15);\n",
              "    fill: var(--button-hover-fill-color);\n",
              "  }\n",
              "\n",
              "  .colab-df-quickchart-complete:disabled,\n",
              "  .colab-df-quickchart-complete:disabled:hover {\n",
              "    background-color: var(--disabled-bg-color);\n",
              "    fill: var(--disabled-fill-color);\n",
              "    box-shadow: none;\n",
              "  }\n",
              "\n",
              "  .colab-df-spinner {\n",
              "    border: 2px solid var(--fill-color);\n",
              "    border-color: transparent;\n",
              "    border-bottom-color: var(--fill-color);\n",
              "    animation:\n",
              "      spin 1s steps(1) infinite;\n",
              "  }\n",
              "\n",
              "  @keyframes spin {\n",
              "    0% {\n",
              "      border-color: transparent;\n",
              "      border-bottom-color: var(--fill-color);\n",
              "      border-left-color: var(--fill-color);\n",
              "    }\n",
              "    20% {\n",
              "      border-color: transparent;\n",
              "      border-left-color: var(--fill-color);\n",
              "      border-top-color: var(--fill-color);\n",
              "    }\n",
              "    30% {\n",
              "      border-color: transparent;\n",
              "      border-left-color: var(--fill-color);\n",
              "      border-top-color: var(--fill-color);\n",
              "      border-right-color: var(--fill-color);\n",
              "    }\n",
              "    40% {\n",
              "      border-color: transparent;\n",
              "      border-right-color: var(--fill-color);\n",
              "      border-top-color: var(--fill-color);\n",
              "    }\n",
              "    60% {\n",
              "      border-color: transparent;\n",
              "      border-right-color: var(--fill-color);\n",
              "    }\n",
              "    80% {\n",
              "      border-color: transparent;\n",
              "      border-right-color: var(--fill-color);\n",
              "      border-bottom-color: var(--fill-color);\n",
              "    }\n",
              "    90% {\n",
              "      border-color: transparent;\n",
              "      border-bottom-color: var(--fill-color);\n",
              "    }\n",
              "  }\n",
              "</style>\n",
              "\n",
              "  <script>\n",
              "    async function quickchart(key) {\n",
              "      const quickchartButtonEl =\n",
              "        document.querySelector('#' + key + ' button');\n",
              "      quickchartButtonEl.disabled = true;  // To prevent multiple clicks.\n",
              "      quickchartButtonEl.classList.add('colab-df-spinner');\n",
              "      try {\n",
              "        const charts = await google.colab.kernel.invokeFunction(\n",
              "            'suggestCharts', [key], {});\n",
              "      } catch (error) {\n",
              "        console.error('Error during call to suggestCharts:', error);\n",
              "      }\n",
              "      quickchartButtonEl.classList.remove('colab-df-spinner');\n",
              "      quickchartButtonEl.classList.add('colab-df-quickchart-complete');\n",
              "    }\n",
              "    (() => {\n",
              "      let quickchartButtonEl =\n",
              "        document.querySelector('#df-fbc18785-86f9-4221-a529-a0a53f2944f0 button');\n",
              "      quickchartButtonEl.style.display =\n",
              "        google.colab.kernel.accessAllowed ? 'block' : 'none';\n",
              "    })();\n",
              "  </script>\n",
              "</div>\n",
              "\n",
              "  <div id=\"id_2e155407-97c0-4f26-97f6-c9a826d525a2\">\n",
              "    <style>\n",
              "      .colab-df-generate {\n",
              "        background-color: #E8F0FE;\n",
              "        border: none;\n",
              "        border-radius: 50%;\n",
              "        cursor: pointer;\n",
              "        display: none;\n",
              "        fill: #1967D2;\n",
              "        height: 32px;\n",
              "        padding: 0 0 0 0;\n",
              "        width: 32px;\n",
              "      }\n",
              "\n",
              "      .colab-df-generate:hover {\n",
              "        background-color: #E2EBFA;\n",
              "        box-shadow: 0px 1px 2px rgba(60, 64, 67, 0.3), 0px 1px 3px 1px rgba(60, 64, 67, 0.15);\n",
              "        fill: #174EA6;\n",
              "      }\n",
              "\n",
              "      [theme=dark] .colab-df-generate {\n",
              "        background-color: #3B4455;\n",
              "        fill: #D2E3FC;\n",
              "      }\n",
              "\n",
              "      [theme=dark] .colab-df-generate:hover {\n",
              "        background-color: #434B5C;\n",
              "        box-shadow: 0px 1px 3px 1px rgba(0, 0, 0, 0.15);\n",
              "        filter: drop-shadow(0px 1px 2px rgba(0, 0, 0, 0.3));\n",
              "        fill: #FFFFFF;\n",
              "      }\n",
              "    </style>\n",
              "    <button class=\"colab-df-generate\" onclick=\"generateWithVariable('results_df')\"\n",
              "            title=\"Generate code using this dataframe.\"\n",
              "            style=\"display:none;\">\n",
              "\n",
              "  <svg xmlns=\"http://www.w3.org/2000/svg\" height=\"24px\"viewBox=\"0 0 24 24\"\n",
              "       width=\"24px\">\n",
              "    <path d=\"M7,19H8.4L18.45,9,17,7.55,7,17.6ZM5,21V16.75L18.45,3.32a2,2,0,0,1,2.83,0l1.4,1.43a1.91,1.91,0,0,1,.58,1.4,1.91,1.91,0,0,1-.58,1.4L9.25,21ZM18.45,9,17,7.55Zm-12,3A5.31,5.31,0,0,0,4.9,8.1,5.31,5.31,0,0,0,1,6.5,5.31,5.31,0,0,0,4.9,4.9,5.31,5.31,0,0,0,6.5,1,5.31,5.31,0,0,0,8.1,4.9,5.31,5.31,0,0,0,12,6.5,5.46,5.46,0,0,0,6.5,12Z\"/>\n",
              "  </svg>\n",
              "    </button>\n",
              "    <script>\n",
              "      (() => {\n",
              "      const buttonEl =\n",
              "        document.querySelector('#id_2e155407-97c0-4f26-97f6-c9a826d525a2 button.colab-df-generate');\n",
              "      buttonEl.style.display =\n",
              "        google.colab.kernel.accessAllowed ? 'block' : 'none';\n",
              "\n",
              "      buttonEl.onclick = () => {\n",
              "        google.colab.notebook.generateWithVariable('results_df');\n",
              "      }\n",
              "      })();\n",
              "    </script>\n",
              "  </div>\n",
              "\n",
              "    </div>\n",
              "  </div>\n"
            ],
            "application/vnd.google.colaboratory.intrinsic+json": {
              "type": "dataframe",
              "variable_name": "results_df",
              "summary": "{\n  \"name\": \"results_df\",\n  \"rows\": 2,\n  \"fields\": [\n    {\n      \"column\": \"crema_d\",\n      \"properties\": {\n        \"dtype\": \"number\",\n        \"std\": 0.14142135623731153,\n        \"min\": 70.2,\n        \"max\": 70.4,\n        \"num_unique_values\": 2,\n        \"samples\": [\n          70.4,\n          70.2\n        ],\n        \"semantic_type\": \"\",\n        \"description\": \"\"\n      }\n    }\n  ]\n}"
            }
          },
          "metadata": {},
          "execution_count": 29
        }
      ],
      "source": [
        "results_df"
      ]
    },
    {
      "cell_type": "code",
      "execution_count": 30,
      "metadata": {
        "id": "eMw1SXfsLUJH"
      },
      "outputs": [],
      "source": [
        "filename = os.path.splitext(os.path.basename(weight_file))[0] if weight_file else model_name\n",
        "results_folder = f'{SERAB_PATH}/clf_results/'\n",
        "save_results(filename + '.csv', results_df, results_folder)"
      ]
    },
    {
      "cell_type": "code",
      "execution_count": 31,
      "metadata": {
        "id": "zrHbXaOt50SQ",
        "colab": {
          "base_uri": "https://localhost:8080/",
          "height": 112
        },
        "outputId": "6b0737f9-09d2-417c-ebb8-9a1f2ca15821"
      },
      "outputs": [
        {
          "output_type": "execute_result",
          "data": {
            "text/plain": [
              "          crema_d  crema_d.1\n",
              "test_acc     70.2       70.2\n",
              "test_uar     70.4       70.4"
            ],
            "text/html": [
              "\n",
              "  <div id=\"df-4d8c963a-311b-4fd3-875a-18a29e15f0cd\" class=\"colab-df-container\">\n",
              "    <div>\n",
              "<style scoped>\n",
              "    .dataframe tbody tr th:only-of-type {\n",
              "        vertical-align: middle;\n",
              "    }\n",
              "\n",
              "    .dataframe tbody tr th {\n",
              "        vertical-align: top;\n",
              "    }\n",
              "\n",
              "    .dataframe thead th {\n",
              "        text-align: right;\n",
              "    }\n",
              "</style>\n",
              "<table border=\"1\" class=\"dataframe\">\n",
              "  <thead>\n",
              "    <tr style=\"text-align: right;\">\n",
              "      <th></th>\n",
              "      <th>crema_d</th>\n",
              "      <th>crema_d.1</th>\n",
              "    </tr>\n",
              "  </thead>\n",
              "  <tbody>\n",
              "    <tr>\n",
              "      <th>test_acc</th>\n",
              "      <td>70.2</td>\n",
              "      <td>70.2</td>\n",
              "    </tr>\n",
              "    <tr>\n",
              "      <th>test_uar</th>\n",
              "      <td>70.4</td>\n",
              "      <td>70.4</td>\n",
              "    </tr>\n",
              "  </tbody>\n",
              "</table>\n",
              "</div>\n",
              "    <div class=\"colab-df-buttons\">\n",
              "\n",
              "  <div class=\"colab-df-container\">\n",
              "    <button class=\"colab-df-convert\" onclick=\"convertToInteractive('df-4d8c963a-311b-4fd3-875a-18a29e15f0cd')\"\n",
              "            title=\"Convert this dataframe to an interactive table.\"\n",
              "            style=\"display:none;\">\n",
              "\n",
              "  <svg xmlns=\"http://www.w3.org/2000/svg\" height=\"24px\" viewBox=\"0 -960 960 960\">\n",
              "    <path d=\"M120-120v-720h720v720H120Zm60-500h600v-160H180v160Zm220 220h160v-160H400v160Zm0 220h160v-160H400v160ZM180-400h160v-160H180v160Zm440 0h160v-160H620v160ZM180-180h160v-160H180v160Zm440 0h160v-160H620v160Z\"/>\n",
              "  </svg>\n",
              "    </button>\n",
              "\n",
              "  <style>\n",
              "    .colab-df-container {\n",
              "      display:flex;\n",
              "      gap: 12px;\n",
              "    }\n",
              "\n",
              "    .colab-df-convert {\n",
              "      background-color: #E8F0FE;\n",
              "      border: none;\n",
              "      border-radius: 50%;\n",
              "      cursor: pointer;\n",
              "      display: none;\n",
              "      fill: #1967D2;\n",
              "      height: 32px;\n",
              "      padding: 0 0 0 0;\n",
              "      width: 32px;\n",
              "    }\n",
              "\n",
              "    .colab-df-convert:hover {\n",
              "      background-color: #E2EBFA;\n",
              "      box-shadow: 0px 1px 2px rgba(60, 64, 67, 0.3), 0px 1px 3px 1px rgba(60, 64, 67, 0.15);\n",
              "      fill: #174EA6;\n",
              "    }\n",
              "\n",
              "    .colab-df-buttons div {\n",
              "      margin-bottom: 4px;\n",
              "    }\n",
              "\n",
              "    [theme=dark] .colab-df-convert {\n",
              "      background-color: #3B4455;\n",
              "      fill: #D2E3FC;\n",
              "    }\n",
              "\n",
              "    [theme=dark] .colab-df-convert:hover {\n",
              "      background-color: #434B5C;\n",
              "      box-shadow: 0px 1px 3px 1px rgba(0, 0, 0, 0.15);\n",
              "      filter: drop-shadow(0px 1px 2px rgba(0, 0, 0, 0.3));\n",
              "      fill: #FFFFFF;\n",
              "    }\n",
              "  </style>\n",
              "\n",
              "    <script>\n",
              "      const buttonEl =\n",
              "        document.querySelector('#df-4d8c963a-311b-4fd3-875a-18a29e15f0cd button.colab-df-convert');\n",
              "      buttonEl.style.display =\n",
              "        google.colab.kernel.accessAllowed ? 'block' : 'none';\n",
              "\n",
              "      async function convertToInteractive(key) {\n",
              "        const element = document.querySelector('#df-4d8c963a-311b-4fd3-875a-18a29e15f0cd');\n",
              "        const dataTable =\n",
              "          await google.colab.kernel.invokeFunction('convertToInteractive',\n",
              "                                                    [key], {});\n",
              "        if (!dataTable) return;\n",
              "\n",
              "        const docLinkHtml = 'Like what you see? Visit the ' +\n",
              "          '<a target=\"_blank\" href=https://colab.research.google.com/notebooks/data_table.ipynb>data table notebook</a>'\n",
              "          + ' to learn more about interactive tables.';\n",
              "        element.innerHTML = '';\n",
              "        dataTable['output_type'] = 'display_data';\n",
              "        await google.colab.output.renderOutput(dataTable, element);\n",
              "        const docLink = document.createElement('div');\n",
              "        docLink.innerHTML = docLinkHtml;\n",
              "        element.appendChild(docLink);\n",
              "      }\n",
              "    </script>\n",
              "  </div>\n",
              "\n",
              "\n",
              "<div id=\"df-a20556fc-03d4-48fa-9077-bfd776db8552\">\n",
              "  <button class=\"colab-df-quickchart\" onclick=\"quickchart('df-a20556fc-03d4-48fa-9077-bfd776db8552')\"\n",
              "            title=\"Suggest charts\"\n",
              "            style=\"display:none;\">\n",
              "\n",
              "<svg xmlns=\"http://www.w3.org/2000/svg\" height=\"24px\"viewBox=\"0 0 24 24\"\n",
              "     width=\"24px\">\n",
              "    <g>\n",
              "        <path d=\"M19 3H5c-1.1 0-2 .9-2 2v14c0 1.1.9 2 2 2h14c1.1 0 2-.9 2-2V5c0-1.1-.9-2-2-2zM9 17H7v-7h2v7zm4 0h-2V7h2v10zm4 0h-2v-4h2v4z\"/>\n",
              "    </g>\n",
              "</svg>\n",
              "  </button>\n",
              "\n",
              "<style>\n",
              "  .colab-df-quickchart {\n",
              "      --bg-color: #E8F0FE;\n",
              "      --fill-color: #1967D2;\n",
              "      --hover-bg-color: #E2EBFA;\n",
              "      --hover-fill-color: #174EA6;\n",
              "      --disabled-fill-color: #AAA;\n",
              "      --disabled-bg-color: #DDD;\n",
              "  }\n",
              "\n",
              "  [theme=dark] .colab-df-quickchart {\n",
              "      --bg-color: #3B4455;\n",
              "      --fill-color: #D2E3FC;\n",
              "      --hover-bg-color: #434B5C;\n",
              "      --hover-fill-color: #FFFFFF;\n",
              "      --disabled-bg-color: #3B4455;\n",
              "      --disabled-fill-color: #666;\n",
              "  }\n",
              "\n",
              "  .colab-df-quickchart {\n",
              "    background-color: var(--bg-color);\n",
              "    border: none;\n",
              "    border-radius: 50%;\n",
              "    cursor: pointer;\n",
              "    display: none;\n",
              "    fill: var(--fill-color);\n",
              "    height: 32px;\n",
              "    padding: 0;\n",
              "    width: 32px;\n",
              "  }\n",
              "\n",
              "  .colab-df-quickchart:hover {\n",
              "    background-color: var(--hover-bg-color);\n",
              "    box-shadow: 0 1px 2px rgba(60, 64, 67, 0.3), 0 1px 3px 1px rgba(60, 64, 67, 0.15);\n",
              "    fill: var(--button-hover-fill-color);\n",
              "  }\n",
              "\n",
              "  .colab-df-quickchart-complete:disabled,\n",
              "  .colab-df-quickchart-complete:disabled:hover {\n",
              "    background-color: var(--disabled-bg-color);\n",
              "    fill: var(--disabled-fill-color);\n",
              "    box-shadow: none;\n",
              "  }\n",
              "\n",
              "  .colab-df-spinner {\n",
              "    border: 2px solid var(--fill-color);\n",
              "    border-color: transparent;\n",
              "    border-bottom-color: var(--fill-color);\n",
              "    animation:\n",
              "      spin 1s steps(1) infinite;\n",
              "  }\n",
              "\n",
              "  @keyframes spin {\n",
              "    0% {\n",
              "      border-color: transparent;\n",
              "      border-bottom-color: var(--fill-color);\n",
              "      border-left-color: var(--fill-color);\n",
              "    }\n",
              "    20% {\n",
              "      border-color: transparent;\n",
              "      border-left-color: var(--fill-color);\n",
              "      border-top-color: var(--fill-color);\n",
              "    }\n",
              "    30% {\n",
              "      border-color: transparent;\n",
              "      border-left-color: var(--fill-color);\n",
              "      border-top-color: var(--fill-color);\n",
              "      border-right-color: var(--fill-color);\n",
              "    }\n",
              "    40% {\n",
              "      border-color: transparent;\n",
              "      border-right-color: var(--fill-color);\n",
              "      border-top-color: var(--fill-color);\n",
              "    }\n",
              "    60% {\n",
              "      border-color: transparent;\n",
              "      border-right-color: var(--fill-color);\n",
              "    }\n",
              "    80% {\n",
              "      border-color: transparent;\n",
              "      border-right-color: var(--fill-color);\n",
              "      border-bottom-color: var(--fill-color);\n",
              "    }\n",
              "    90% {\n",
              "      border-color: transparent;\n",
              "      border-bottom-color: var(--fill-color);\n",
              "    }\n",
              "  }\n",
              "</style>\n",
              "\n",
              "  <script>\n",
              "    async function quickchart(key) {\n",
              "      const quickchartButtonEl =\n",
              "        document.querySelector('#' + key + ' button');\n",
              "      quickchartButtonEl.disabled = true;  // To prevent multiple clicks.\n",
              "      quickchartButtonEl.classList.add('colab-df-spinner');\n",
              "      try {\n",
              "        const charts = await google.colab.kernel.invokeFunction(\n",
              "            'suggestCharts', [key], {});\n",
              "      } catch (error) {\n",
              "        console.error('Error during call to suggestCharts:', error);\n",
              "      }\n",
              "      quickchartButtonEl.classList.remove('colab-df-spinner');\n",
              "      quickchartButtonEl.classList.add('colab-df-quickchart-complete');\n",
              "    }\n",
              "    (() => {\n",
              "      let quickchartButtonEl =\n",
              "        document.querySelector('#df-a20556fc-03d4-48fa-9077-bfd776db8552 button');\n",
              "      quickchartButtonEl.style.display =\n",
              "        google.colab.kernel.accessAllowed ? 'block' : 'none';\n",
              "    })();\n",
              "  </script>\n",
              "</div>\n",
              "\n",
              "    </div>\n",
              "  </div>\n"
            ],
            "application/vnd.google.colaboratory.intrinsic+json": {
              "type": "dataframe",
              "summary": "{\n  \"name\": \"pd\",\n  \"rows\": 2,\n  \"fields\": [\n    {\n      \"column\": \"crema_d\",\n      \"properties\": {\n        \"dtype\": \"number\",\n        \"std\": 0.14142135623731153,\n        \"min\": 70.2,\n        \"max\": 70.4,\n        \"num_unique_values\": 2,\n        \"samples\": [\n          70.4,\n          70.2\n        ],\n        \"semantic_type\": \"\",\n        \"description\": \"\"\n      }\n    },\n    {\n      \"column\": \"crema_d.1\",\n      \"properties\": {\n        \"dtype\": \"number\",\n        \"std\": 0.14142135623731153,\n        \"min\": 70.2,\n        \"max\": 70.4,\n        \"num_unique_values\": 2,\n        \"samples\": [\n          70.4,\n          70.2\n        ],\n        \"semantic_type\": \"\",\n        \"description\": \"\"\n      }\n    }\n  ]\n}"
            }
          },
          "metadata": {},
          "execution_count": 31
        }
      ],
      "source": [
        "pd.read_csv(f'{SERAB_PATH}/clf_results/default1024_BYOLAs64x96-2107292000-e100-bs256-lr0003-rs42.csv', index_col=0)"
      ]
    }
  ],
  "metadata": {
    "accelerator": "GPU",
    "colab": {
      "provenance": []
    },
    "kernelspec": {
      "display_name": "Python 3",
      "name": "python3"
    },
    "language_info": {
      "name": "python"
    }
  },
  "nbformat": 4,
  "nbformat_minor": 0
}